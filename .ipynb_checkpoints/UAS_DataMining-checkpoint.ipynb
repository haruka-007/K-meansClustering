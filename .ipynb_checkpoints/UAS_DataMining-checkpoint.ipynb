{
 "cells": [
  {
   "cell_type": "code",
   "execution_count": 1,
   "metadata": {
    "id": "nXCWhRttbh7F"
   },
   "outputs": [],
   "source": [
    "#import library\n",
    "import pandas as pd\n",
    "from sklearn.cluster import KMeans"
   ]
  },
  {
   "cell_type": "code",
   "execution_count": 2,
   "metadata": {
    "id": "Up9GAzVocjR8"
   },
   "outputs": [
    {
     "name": "stdout",
     "output_type": "stream",
     "text": [
      "<class 'pandas.core.frame.DataFrame'>\n",
      "RangeIndex: 15 entries, 0 to 14\n",
      "Data columns (total 4 columns):\n",
      " #   Column            Non-Null Count  Dtype  \n",
      "---  ------            --------------  -----  \n",
      " 0   nama              15 non-null     object \n",
      " 1   IPS Semester 1    15 non-null     float64\n",
      " 2   IPS Semester 2    15 non-null     float64\n",
      " 3   IPS Semester 3    15 non-null     float64\n",
      "dtypes: float64(3), object(1)\n",
      "memory usage: 608.0+ bytes\n"
     ]
    }
   ],
   "source": [
    "# Membaca dataset dari file CSV\n",
    "data = pd.read_csv('dataset.csv')\n",
    "data.info()"
   ]
  },
  {
   "cell_type": "code",
   "execution_count": 3,
   "metadata": {
    "id": "Wi5uXJcqcnNz"
   },
   "outputs": [
    {
     "data": {
      "text/html": [
       "<div>\n",
       "<style scoped>\n",
       "    .dataframe tbody tr th:only-of-type {\n",
       "        vertical-align: middle;\n",
       "    }\n",
       "\n",
       "    .dataframe tbody tr th {\n",
       "        vertical-align: top;\n",
       "    }\n",
       "\n",
       "    .dataframe thead th {\n",
       "        text-align: right;\n",
       "    }\n",
       "</style>\n",
       "<table border=\"1\" class=\"dataframe\">\n",
       "  <thead>\n",
       "    <tr style=\"text-align: right;\">\n",
       "      <th></th>\n",
       "      <th>IPS Semester 1</th>\n",
       "      <th>IPS Semester 2</th>\n",
       "      <th>IPS Semester 3</th>\n",
       "    </tr>\n",
       "  </thead>\n",
       "  <tbody>\n",
       "    <tr>\n",
       "      <th>0</th>\n",
       "      <td>3.90</td>\n",
       "      <td>3.75</td>\n",
       "      <td>3.32</td>\n",
       "    </tr>\n",
       "    <tr>\n",
       "      <th>1</th>\n",
       "      <td>3.50</td>\n",
       "      <td>3.25</td>\n",
       "      <td>3.75</td>\n",
       "    </tr>\n",
       "    <tr>\n",
       "      <th>2</th>\n",
       "      <td>3.90</td>\n",
       "      <td>3.85</td>\n",
       "      <td>3.86</td>\n",
       "    </tr>\n",
       "    <tr>\n",
       "      <th>3</th>\n",
       "      <td>3.80</td>\n",
       "      <td>3.85</td>\n",
       "      <td>3.73</td>\n",
       "    </tr>\n",
       "    <tr>\n",
       "      <th>4</th>\n",
       "      <td>3.65</td>\n",
       "      <td>3.50</td>\n",
       "      <td>4.00</td>\n",
       "    </tr>\n",
       "  </tbody>\n",
       "</table>\n",
       "</div>"
      ],
      "text/plain": [
       "   IPS Semester 1  IPS Semester 2    IPS Semester 3  \n",
       "0            3.90              3.75              3.32\n",
       "1            3.50              3.25              3.75\n",
       "2            3.90              3.85              3.86\n",
       "3            3.80              3.85              3.73\n",
       "4            3.65              3.50              4.00"
      ]
     },
     "execution_count": 3,
     "metadata": {},
     "output_type": "execute_result"
    }
   ],
   "source": [
    "# Mengambil kolom nilai IPS semester 1, 2, dan 3\n",
    "ips = data.iloc[:, 1:]\n",
    "ips.head()"
   ]
  },
  {
   "cell_type": "code",
   "execution_count": 4,
   "metadata": {
    "id": "xjoQWC1-cnbk"
   },
   "outputs": [],
   "source": [
    "# Konversi data ke dalam format array\n",
    "ips_array = ips.values"
   ]
  },
  {
   "cell_type": "code",
   "execution_count": 5,
   "metadata": {
    "id": "k1Jn-AKxcnqK"
   },
   "outputs": [],
   "source": [
    "# Menentukan jumlah kluster\n",
    "k = 3"
   ]
  },
  {
   "cell_type": "code",
   "execution_count": 6,
   "metadata": {
    "colab": {
     "base_uri": "https://localhost:8080/"
    },
    "id": "iVXCSu-rcn3E",
    "outputId": "281d2752-857f-4855-b833-e0da26ebadff"
   },
   "outputs": [],
   "source": [
    "# Melakukan proses clustering dengan k-means\n",
    "kmeans = KMeans(n_clusters=k, random_state=0).fit(ips_array)"
   ]
  },
  {
   "cell_type": "code",
   "execution_count": 7,
   "metadata": {
    "id": "Q7Efy0MpcoEv"
   },
   "outputs": [],
   "source": [
    "# Menambahkan kolom \"Klaster\" ke dalam dataset\n",
    "data['Klaster'] = kmeans.labels_"
   ]
  },
  {
   "cell_type": "code",
   "execution_count": 8,
   "metadata": {
    "id": "GHwRqddkc0ts"
   },
   "outputs": [],
   "source": [
    "# Menentukan nilai klaster\n",
    "nilai_k = {0: \"Cepat Lulus\",1: \"Standar\", 2: \"Lama\"}"
   ]
  },
  {
   "cell_type": "code",
   "execution_count": 9,
   "metadata": {
    "id": "udw0NP7kc1n-"
   },
   "outputs": [],
   "source": [
    "# Mengganti nilai klaster dalam dataset dengan label yang sesuai\n",
    "data['Klaster'] = data['Klaster'].map(nilai_k)"
   ]
  },
  {
   "cell_type": "code",
   "execution_count": 10,
   "metadata": {
    "colab": {
     "base_uri": "https://localhost:8080/"
    },
    "id": "ud9DK9N7c4ss",
    "outputId": "b25957a9-87fc-4a26-b45e-5ef99f19d960"
   },
   "outputs": [
    {
     "name": "stdout",
     "output_type": "stream",
     "text": [
      "                         nama      Klaster\n",
      "0         HAKIM YUSUF HIDAYAT  Cepat Lulus\n",
      "1   Annisa Agung Isa Prajitno      Standar\n",
      "2                      Nafajo  Cepat Lulus\n",
      "3           MEISYA CAESAR M.A  Cepat Lulus\n",
      "4                    Syamitha  Cepat Lulus\n",
      "5                  Tan, David      Standar\n",
      "6    Abrar Taufiq Ranggadana       Standar\n",
      "7          Awan Cahya Pratama  Cepat Lulus\n",
      "8           firda dianingtyas  Cepat Lulus\n",
      "9         Rahmat Hidayatullah  Cepat Lulus\n",
      "10                 Kamalludin  Cepat Lulus\n",
      "11    Alshiera Zahra Annisya   Cepat Lulus\n",
      "12     Dimas Satriyo Nugroho   Cepat Lulus\n",
      "13     Mohammad amiro zyukama         Lama\n",
      "14                Fajar Adi S      Standar\n"
     ]
    }
   ],
   "source": [
    "# Menampilkan hasil kluster\n",
    "print(data[['nama', 'Klaster']])"
   ]
  },
  {
   "cell_type": "code",
   "execution_count": null,
   "metadata": {
    "id": "kmDg7y9hg6gR"
   },
   "outputs": [],
   "source": []
  }
 ],
 "metadata": {
  "colab": {
   "provenance": []
  },
  "kernelspec": {
   "display_name": "Python 3 (ipykernel)",
   "language": "python",
   "name": "python3"
  },
  "language_info": {
   "codemirror_mode": {
    "name": "ipython",
    "version": 3
   },
   "file_extension": ".py",
   "mimetype": "text/x-python",
   "name": "python",
   "nbconvert_exporter": "python",
   "pygments_lexer": "ipython3",
   "version": "3.9.13"
  }
 },
 "nbformat": 4,
 "nbformat_minor": 1
}
